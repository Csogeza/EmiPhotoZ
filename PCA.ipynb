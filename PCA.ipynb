{
 "cells": [
  {
   "cell_type": "markdown",
   "metadata": {},
   "source": [
    "# PCA on continuums and emission lines"
   ]
  },
  {
   "cell_type": "markdown",
   "metadata": {},
   "source": [
    "This notebook demonstrates the process of PCA on the continuum spectra and on the emission lines. First we have to import the file with the necessary programs"
   ]
  },
  {
   "cell_type": "code",
   "execution_count": null,
   "metadata": {},
   "outputs": [],
   "source": [
    "from LineSpec import pca_programs as pg\n",
    "import numpy\n",
    "import scipy.interpolate"
   ]
  },
  {
   "cell_type": "markdown",
   "metadata": {},
   "source": [
    "The spectral datasets I have used for the program are ordered in a _python dictionary_ that contains the following keys:\n",
    "  -  'Spectrum': The measured spectrum, convolved with the right velocity dispersion kernel and transformed back to restframe. This is a 2d _array_, in which the first column is the wavelength and the second column is the flux data.\n",
    "  -  'Model': The fitted continuum flux. For the fitting we made use of the spectral templates of Bruzual & Charlot (2003). The fitting procedure is detailed in Csörnyei & Dobos (2020). For the model spectra the same wavelength grid was used as for the 'Spectrum', thus this should be 1d _array_. If there is no available model flux for the given galaxy, this key must be set either 'None' or an _array_ filled with zeros.\n",
    "\n",
    "These are keys are the core components of the _dictionary_, these must be present for the scripts to work."
   ]
  },
  {
   "cell_type": "code",
   "execution_count": null,
   "metadata": {},
   "outputs": [],
   "source": [
    "spectra = numpy.load('all_spec.npy').item()"
   ]
  },
  {
   "cell_type": "markdown",
   "metadata": {},
   "source": [
    "The line data is stored in a separate python _dictionary_, which does not have keys, every log in the dictionary contains only one 1d _array_ with ten values. These data are the equivalent widths of the emission lines listed in Csörnyei & Dobos (2020) ordered according to their wavelenght (increasing order)."
   ]
  },
  {
   "cell_type": "code",
   "execution_count": null,
   "metadata": {},
   "outputs": [],
   "source": [
    "line_data = numpy.load('all_lines.npy').item()"
   ]
  },
  {
   "cell_type": "markdown",
   "metadata": {},
   "source": [
    "As a first step a common wavelength grid has to be defined, which is covered by each of the spectra. The spectra then will be resampled to this grid, then simultaneously normalised as well, according to the normalisation procedure detailed by Beck et al. (2016)."
   ]
  },
  {
   "cell_type": "code",
   "execution_count": null,
   "metadata": {},
   "outputs": [],
   "source": [
    "new_wl = numpy.linspace(3724, 6761, 5062)"
   ]
  },
  {
   "cell_type": "code",
   "execution_count": null,
   "metadata": {},
   "outputs": [],
   "source": [
    "normed_spec = pg.normalize_model(spectra, new_wl) # The spectra here are also organized into a dictionary"
   ]
  },
  {
   "cell_type": "markdown",
   "metadata": {},
   "source": [
    "As a first step, the average spectrum has to be calculated. This will be subtracted from every normalised continuum model, then apply PCA on the obtained residual spectra, to fiend the highest variance spectrum components."
   ]
  },
  {
   "cell_type": "code",
   "execution_count": null,
   "metadata": {},
   "outputs": [],
   "source": [
    "avg_spec = pg.average_spec(normed_spec)"
   ]
  },
  {
   "cell_type": "code",
   "execution_count": null,
   "metadata": {},
   "outputs": [],
   "source": [
    "red_spec = pg.get_reduced_spectra(normed_spec, avg_spec)"
   ]
  },
  {
   "cell_type": "markdown",
   "metadata": {},
   "source": [
    "After subtracting the average from the spectra, we apply PCA on them. The output of the script are two _arrays_, one containing the eigenspectra (the first five, as it presently set), while the other contains the corresponding principal component coefficients for each of the galaxies. These values will be used for modelling in the further steps."
   ]
  },
  {
   "cell_type": "code",
   "execution_count": null,
   "metadata": {},
   "outputs": [],
   "source": [
    "eig5, PCs = pg.run_pca(red_spec, new_wl, 5)"
   ]
  },
  {
   "cell_type": "markdown",
   "metadata": {},
   "source": [
    "The resulting eigenspectra and principal components both contain information of every type of galaxies. To infer the eigenvectors of emission line equivalent widths, we have to separate the passive or weak line galaxies from the strong emission line galaxies, which exhibit all ten emission lines (for details, see Csörnyei & Dobos (2020)). This step is done below, where we sort the line equivalent width arrays and the continuum principal components into different _dictionaries_."
   ]
  },
  {
   "cell_type": "code",
   "execution_count": null,
   "metadata": {},
   "outputs": [],
   "source": [
    "emiss_lines, emiss_pcs, no_lines, no_pcs = pg.separate_emission_galaxies(spectra, line_data, PCs)"
   ]
  },
  {
   "cell_type": "markdown",
   "metadata": {},
   "source": [
    "As a result, we obtained separate arrays for the emission line equivalent widths and the continuum principal component coefficients, which then will be used for modelling the distributions of the galaxy catalog to set up a realistic mock catalog generator. Before that, we also have to apply PCA on the emission lines as well separately, taking only those spectra into account, which exhibited all ten emission lines."
   ]
  },
  {
   "cell_type": "code",
   "execution_count": null,
   "metadata": {},
   "outputs": [],
   "source": [
    "V, E_PCs = run_line_pca(emiss_lines, 10)"
   ]
  }
 ],
 "metadata": {
  "kernelspec": {
   "display_name": "Python 3",
   "language": "python",
   "name": "python3"
  },
  "language_info": {
   "codemirror_mode": {
    "name": "ipython",
    "version": 3
   },
   "file_extension": ".py",
   "mimetype": "text/x-python",
   "name": "python",
   "nbconvert_exporter": "python",
   "pygments_lexer": "ipython3",
   "version": "3.6.5"
  }
 },
 "nbformat": 4,
 "nbformat_minor": 2
}
